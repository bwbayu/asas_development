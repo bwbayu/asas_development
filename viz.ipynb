{
 "cells": [
  {
   "cell_type": "code",
   "execution_count": 35,
   "id": "4c966cf8",
   "metadata": {},
   "outputs": [
    {
     "name": "stderr",
     "output_type": "stream",
     "text": [
      "C:\\Users\\User\\AppData\\Local\\Temp\\ipykernel_5264\\3923337473.py:10: DeprecationWarning: DataFrameGroupBy.apply operated on the grouping columns. This behavior is deprecated, and in a future version of pandas the grouping columns will be excluded from the operation. Either pass `include_groups=False` to exclude the groupings or explicitly select the grouping columns after groupby to silence this warning.\n",
      "  .apply(lambda group: [{\"answer\": row['answer'], \"score\": row['normalized_score']} for _, row in group.iterrows()])\n"
     ]
    }
   ],
   "source": [
    "import pandas as pd\n",
    "import json\n",
    "\n",
    "df = pd.read_csv(\"data/cross/test_indo.csv\")\n",
    "df['dataset_id'] = df['dataset_num'].str.extract(r'-(\\d+)$').astype(int)\n",
    "df = df[['dataset_id', 'answer', 'normalized_score']]\n",
    "df.head()\n",
    "result = (\n",
    "    df.groupby('dataset_id')\n",
    "    .apply(lambda group: [{\"answer\": row['answer'], \"score\": row['normalized_score']} for _, row in group.iterrows()])\n",
    "    .to_dict()\n",
    ")\n",
    "\n",
    "# convert keys to strings (optional but matches your example)\n",
    "result = {str(k): v for k, v in result.items()}\n",
    "\n",
    "# save to JSON\n",
    "with open(\"answer_cross.json\", \"w\", encoding=\"utf-8\") as f:\n",
    "    json.dump(result, f, indent=4, ensure_ascii=False)"
   ]
  },
  {
   "cell_type": "code",
   "execution_count": null,
   "id": "73eded5b",
   "metadata": {},
   "outputs": [
    {
     "name": "stdout",
     "output_type": "stream",
     "text": [
      "Hidden states:\n",
      " tensor([[[-9.7118e-01, -1.9843e+00,  1.2923e+00, -9.0187e-01, -6.6999e-02],\n",
      "         [ 1.5672e+00,  1.3224e-03, -1.3752e+00,  3.9771e-01, -3.8122e-02],\n",
      "         [ 1.4740e+00,  9.0574e-01, -3.2328e-01, -1.6604e-01,  6.7145e-01]]])\n",
      "Parameter containing:\n",
      "tensor([[ 0.3029, -0.2943,  0.2611, -0.2435,  0.4013]], requires_grad=True)\n",
      "Attention scores:\n",
      " tensor([[1.0351, 0.2182, 0.6205]], grad_fn=<SqueezeBackward1>)\n",
      "Attention weights:\n",
      " tensor([[[0.4757],\n",
      "         [0.2101],\n",
      "         [0.3142]]], grad_fn=<UnsqueezeBackward0>)\n",
      "Pooled output:\n",
      " tensor([[ 0.3305, -0.6590,  0.2241, -0.3976,  0.1711]], grad_fn=<SumBackward1>)\n"
     ]
    }
   ],
   "source": [
    "import torch\n",
    "import torch.nn.functional as F\n",
    "\n",
    "hidden_states = torch.randn(1, 3, 5)\n",
    "\n",
    "attn_linear = torch.nn.Linear(5, 1)\n",
    "\n",
    "attn_scores = attn_linear(hidden_states).squeeze(-1)\n",
    "\n",
    "attn_weights = F.softmax(attn_scores, dim=1).unsqueeze(-1)\n",
    "\n",
    "pooled = torch.sum(hidden_states * attn_weights, dim=1)\n",
    "\n",
    "print(\"Hidden states:\\n\", hidden_states)\n",
    "print(attn_linear.weight)\n",
    "print(\"Attention scores:\\n\", attn_scores)\n",
    "print(\"Attention weights:\\n\", attn_weights)\n",
    "print(\"Pooled output:\\n\", pooled)\n"
   ]
  },
  {
   "cell_type": "code",
   "execution_count": null,
   "id": "59bbd515",
   "metadata": {},
   "outputs": [],
   "source": []
  }
 ],
 "metadata": {
  "kernelspec": {
   "display_name": "env",
   "language": "python",
   "name": "python3"
  },
  "language_info": {
   "codemirror_mode": {
    "name": "ipython",
    "version": 3
   },
   "file_extension": ".py",
   "mimetype": "text/x-python",
   "name": "python",
   "nbconvert_exporter": "python",
   "pygments_lexer": "ipython3",
   "version": "3.10.5"
  }
 },
 "nbformat": 4,
 "nbformat_minor": 5
}
